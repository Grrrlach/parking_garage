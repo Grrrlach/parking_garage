{
 "cells": [
  {
   "cell_type": "code",
   "execution_count": 13,
   "id": "ea40ae17",
   "metadata": {},
   "outputs": [
    {
     "ename": "TypeError",
     "evalue": "button_push() takes 0 positional arguments but 1 was given",
     "output_type": "error",
     "traceback": [
      "\u001b[1;31m---------------------------------------------------------------------------\u001b[0m",
      "\u001b[1;31mTypeError\u001b[0m                                 Traceback (most recent call last)",
      "\u001b[1;32m<ipython-input-13-d20c358a2320>\u001b[0m in \u001b[0;36m<module>\u001b[1;34m\u001b[0m\n\u001b[0;32m     58\u001b[0m \u001b[1;33m\u001b[0m\u001b[0m\n\u001b[0;32m     59\u001b[0m \u001b[0ma_lot\u001b[0m \u001b[1;33m=\u001b[0m \u001b[0mParking_lot\u001b[0m\u001b[1;33m(\u001b[0m\u001b[1;34m\"Awesome Lot\"\u001b[0m\u001b[1;33m)\u001b[0m\u001b[1;33m\u001b[0m\u001b[1;33m\u001b[0m\u001b[0m\n\u001b[1;32m---> 60\u001b[1;33m \u001b[0ma_lot\u001b[0m\u001b[1;33m.\u001b[0m\u001b[0mbutton_push\u001b[0m\u001b[1;33m(\u001b[0m\u001b[1;33m)\u001b[0m\u001b[1;33m\u001b[0m\u001b[1;33m\u001b[0m\u001b[0m\n\u001b[0m",
      "\u001b[1;31mTypeError\u001b[0m: button_push() takes 0 positional arguments but 1 was given"
     ]
    }
   ],
   "source": [
    "from IPython.display import clear_output      \n",
    "\n",
    "\n",
    "class Parking_lot:\n",
    "    full_spots = {}\n",
    "    empty_spots = [*range (0,11)]\n",
    "    \n",
    "    def __init__ (self, name):\n",
    "        self.name=name\n",
    "        \n",
    "    def button_push():\n",
    "        while True:\n",
    "            options = input ('What would you like to do: \"Park\", \"Pay\", or \"Leave\"? ')\n",
    "            if options.lower().strip() == \"park\":\n",
    "                if not len(empty_spots)==0:\n",
    "                    new_ticket = empty_spots.pop(0)\n",
    "                    print (f\"Here is your ticket. Please remember that your ticket number is: {new_ticket}\")\n",
    "                    full_spots[int(new_ticket)] = \"unpaid\"\n",
    "                else:\n",
    "                    print (\"I'm sorry, the lot is full. Please come again later.\")\n",
    "\n",
    "            elif options.lower().strip() == \"pay\":\n",
    "                my_ticket= input (\"Please input your ticket number: \")\n",
    "                while not my_ticket.isdigit():\n",
    "                    my_ticket=input (\"Please enter the ticket number using numerals: \")\n",
    "                    my_ticket=int(my_ticket)\n",
    "                my_ticket=int(my_ticket)\n",
    "                if my_ticket in full_spots:\n",
    "                    if full_spots[my_ticket]==\"paid\":\n",
    "                        print(\"That ticket has already been payed for. You may leave when you are ready.\")\n",
    "                    else:\n",
    "                        payment= input (\"Enter the value you are paying.\")\n",
    "                        print (\"Thank you for your payment. You may leave when you are ready.\")\n",
    "                        full_spots [my_ticket]= \"paid\"\n",
    "                elif int(my_ticket)>10:\n",
    "                    my_ticket= input (\"Our ticket system only counts to 10. Please enter the number of your ticket: \")\n",
    "                else:\n",
    "                    my_ticket = input (\"That is the ticket number of a spot that is not currently rented out. Please try again.\")\n",
    "\n",
    "            elif options.lower().strip() == \"leave\":\n",
    "                my_ticket = input('If you would like me to open the gate so you can leave, please enter your ticket number: ')\n",
    "                while not my_ticket.isdigit():\n",
    "                    input (\"I couldn't understand that. Please enter the ticket number using numerals: \")\n",
    "                my_ticket = int(my_ticket)\n",
    "                if my_ticket in full_spots:\n",
    "                    if full_spots[my_ticket] == \"paid\":\n",
    "                        del full_spots[my_ticket]\n",
    "                        empty_spots.insert(0,my_ticket)\n",
    "                        empty_spots.sort()\n",
    "                        print(empty_spots) #DELETE THIS FROM FINAL CODE\n",
    "                        print(\"Your ticket has been confirmed paid. Thank you for parking at Awesome Lot. Enjoy your day, and please come again.\")\n",
    "                    elif full_spots [my_ticket] == \"unpaid\":\n",
    "                        print (\"I'm sorry, Dave. I'm afraid I can't do that. \\nYou must pay.\")\n",
    "                else:\n",
    "                    my_ticket = (\"That is the ticket number of a spot that is not currently rented out. Please try again.\")\n",
    "            else:\n",
    "                print (\"That command is not recognized.\")\n",
    "\n",
    "a_lot = Parking_lot(\"Awesome Lot\")\n",
    "a_lot.button_push()"
   ]
  },
  {
   "cell_type": "code",
   "execution_count": null,
   "id": "9925c29d",
   "metadata": {},
   "outputs": [],
   "source": []
  }
 ],
 "metadata": {
  "kernelspec": {
   "display_name": "Python 3",
   "language": "python",
   "name": "python3"
  },
  "language_info": {
   "codemirror_mode": {
    "name": "ipython",
    "version": 3
   },
   "file_extension": ".py",
   "mimetype": "text/x-python",
   "name": "python",
   "nbconvert_exporter": "python",
   "pygments_lexer": "ipython3",
   "version": "3.8.8"
  }
 },
 "nbformat": 4,
 "nbformat_minor": 5
}
