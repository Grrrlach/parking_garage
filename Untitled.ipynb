{
 "cells": [
  {
   "cell_type": "code",
   "execution_count": 59,
   "id": "eb4f81bf",
   "metadata": {},
   "outputs": [
    {
     "name": "stdout",
     "output_type": "stream",
     "text": [
      "We have the following empty spots available: [1, 2, 3, 4, 5, 6, 7, 8]\n",
      "Here is your ticket. Please remember that your ticket number is: 1\n",
      "[2, 3, 4, 5, 6, 7, 8]\n",
      "{1: 'unpaid'}\n"
     ]
    }
   ],
   "source": [
    "filled_spots = {}\n",
    "empty_spots = [1, 2, 3, 4, 5, 6, 7, 8]\n",
    "print(f\"We have the following empty spots available: {empty_spots}\")\n",
    "if not len(empty_spots)==0:\n",
    "    new_ticket = empty_spots.pop(0)\n",
    "    print (f\"Here is your ticket. Please remember that your ticket number is: {new_ticket}\")\n",
    "    filled_spots[int(new_ticket)] = \"unpaid\"\n",
    "print (empty_spots)\n",
    "print(filled_spots)"
   ]
  },
  {
   "cell_type": "code",
   "execution_count": 145,
   "id": "30ed57e9",
   "metadata": {},
   "outputs": [
    {
     "name": "stdout",
     "output_type": "stream",
     "text": [
      "{1: 'unpaid', 3: 'unpaid', 4: 'unpaid', 5: 'unpaid'}\n",
      "[6, 7, 8, 9, 10]\n"
     ]
    }
   ],
   "source": [
    "#class = parking_lot (self, ?)\n",
    "#every parking lot contains a list of available parking tickets and a dictionary of ticket # : pay status\n",
    "#input: what do you want to do: park, pay, leave\n",
    "    #if park:\n",
    "        #if any numbers are in the list pop one off and add it to the dictionary as int with value: unpaid\n",
    "        #if no numbers in list print (\"I'm sorry, the parking lot is full.\")\n",
    "    #if pay:\n",
    "        #enter ticket number\n",
    "        #convert number to int\n",
    "        #if input int is in dictionary:\n",
    "            #if value == paid, print (\"That ticket has already been paid for\")\n",
    "            #if value == unpaid, change value to paid\n",
    "                #print (\"Thank you for your payment. You may leave when you are ready.\")\n",
    "    #if leave:\n",
    "        #input 'Please confirm. If you would like me to open the gate so you can leave, please type \"yes\": '\n",
    "        #input enter ticket #\n",
    "            #if value for that key in dictionary == paid\n",
    "                #print (\"Thank you for parking at Awesome Lot\")\n",
    "                #remove key from dictionary\n",
    "                #add ticket # to list\n",
    "                #re-sort the list\n",
    "            #else:\n",
    "                #print (\"I'm sorry, Dave. I'm afraid I can't do that. \\n You must pay.\")\n",
    "from IPython.display import clear_output      \n",
    "\n",
    "\n",
    "class Parking_lot:\n",
    "    def __init__ (self):\n",
    "        full_spots = {}\n",
    "        empty_spots = [*range (0,11)]\n",
    "\n",
    "    def button_push():\n",
    "        while True:\n",
    "            options = input ('What would you like to do: \"Park\", \"Pay\", or \"Leave\"? ')\n",
    "            if options.lower().strip() == \"park\":\n",
    "                if not len(empty_spots)==0:\n",
    "                    new_ticket = empty_spots.pop(0)\n",
    "                    print (f\"Here is your ticket. Please remember that your ticket number is: {new_ticket}\")\n",
    "                    full_spots[int(new_ticket)] = \"unpaid\"\n",
    "                else:\n",
    "                    print (\"I'm sorry, the lot is full. Please come again later.\")\n",
    "\n",
    "            elif options.lower().strip() == \"pay\":\n",
    "                my_ticket= input (\"Please input your ticket number: \")\n",
    "                while not my_ticket.isdigit():\n",
    "                    my_ticket=input (\"Please enter the ticket number using numerals: \")\n",
    "                    my_ticket=int(my_ticket)\n",
    "                my_ticket=int(my_ticket)\n",
    "                if my_ticket in full_spots:\n",
    "                    if full_spots[my_ticket]==\"paid\":\n",
    "                        print(\"That ticket has already been payed for. You may leave when you are ready.\")\n",
    "                    else:\n",
    "                        payment= input (\"Enter the value you are paying.\")\n",
    "                        print (\"Thank you for your payment. You may leave when you are ready.\")\n",
    "                        full_spots [my_ticket]= \"paid\"\n",
    "                elif int(my_ticket)>10:\n",
    "                    my_ticket= input (\"Our ticket system only counts to 10. Please enter the number of your ticket: \")\n",
    "                else:\n",
    "                    my_ticket = input (\"That is the ticket number of a spot that is not currently rented out. Please try again.\")\n",
    "\n",
    "            elif options.lower().strip() == \"leave\":\n",
    "                my_ticket = input('If you would like me to open the gate so you can leave, please enter your ticket number: ')\n",
    "                while not my_ticket.isdigit():\n",
    "                    input (\"I couldn't understand that. Please enter the ticket number using numerals: \")\n",
    "                my_ticket = int(my_ticket)\n",
    "                if my_ticket in full_spots:\n",
    "                    if full_spots[my_ticket] == \"paid\":\n",
    "                        del full_spots[my_ticket]\n",
    "                        empty_spots.insert(0,my_ticket)\n",
    "                        empty_spots.sort()\n",
    "                        print(empty_spots) #DELETE THIS FROM FINAL CODE\n",
    "                        print(\"Your ticket has been confirmed paid. Thank you for parking at Awesome Lot. Enjoy your day, and please come again.\")\n",
    "                    elif full_spots [my_ticket] == \"unpaid\":\n",
    "                        print (\"I'm sorry, Dave. I'm afraid I can't do that. \\nYou must pay.\")\n",
    "                else:\n",
    "                    my_ticket = (\"That is the ticket number of a spot that is not currently rented out. Please try again.\")\n",
    "            else:\n",
    "                print (\"That command is not recognized.\")\n",
    "\n",
    "print (full_spots)\n",
    "print (empty_spots)"
   ]
  },
  {
   "cell_type": "code",
   "execution_count": 139,
   "id": "25c235be",
   "metadata": {},
   "outputs": [
    {
     "name": "stdout",
     "output_type": "stream",
     "text": [
      "{0: 'paid', 1: 'unpaid'}\n",
      "[1, 2, 3, 4, 5, 6, 7, 8, 9, 10]\n"
     ]
    }
   ],
   "source": [
    "class Parking_lot:\n",
    "    def __init__ (self):\n",
    "        self.name = name\n",
    "    filled_spots = {}\n",
    "    filled_spots [0]=\"paid\"\n",
    "    filled_spots [1]=\"unpaid\"\n",
    "    print (filled_spots)\n",
    "    \n",
    "    full_spots = {}\n",
    "    empty_spots = [*range(1,11)]\n",
    "    print (empty_spots)\n",
    "    \n"
   ]
  },
  {
   "cell_type": "code",
   "execution_count": 122,
   "id": "ee05a964",
   "metadata": {},
   "outputs": [
    {
     "name": "stdout",
     "output_type": "stream",
     "text": [
      "What would you like to do: \"Park\", \"Pay\", or \"Leave\"? PArk    \n",
      "Here is your ticket. Please remember that your ticket number is: 1\n"
     ]
    }
   ],
   "source": [
    "full_spots = {}\n",
    "empty_spots = [*range (1,11)]\n",
    "def test():\n",
    "    options = input ('What would you like to do: \"Park\", \"Pay\", or \"Leave\"? ')\n",
    "    #options = options.strip()\n",
    "    if options.lower().strip() == \"park\":\n",
    "        if not len(empty_spots)==0:\n",
    "            new_ticket = empty_spots.pop(0)\n",
    "            print (f\"Here is your ticket. Please remember that your ticket number is: {new_ticket}\")\n",
    "            full_spots[int(new_ticket)] = \"unpaid\"\n",
    "        else:\n",
    "            print (\"I'm sorry, the lot is full. Please come again later.\")\n",
    "        \n",
    "test()"
   ]
  }
 ],
 "metadata": {
  "kernelspec": {
   "display_name": "Python 3",
   "language": "python",
   "name": "python3"
  },
  "language_info": {
   "codemirror_mode": {
    "name": "ipython",
    "version": 3
   },
   "file_extension": ".py",
   "mimetype": "text/x-python",
   "name": "python",
   "nbconvert_exporter": "python",
   "pygments_lexer": "ipython3",
   "version": "3.8.8"
  }
 },
 "nbformat": 4,
 "nbformat_minor": 5
}
